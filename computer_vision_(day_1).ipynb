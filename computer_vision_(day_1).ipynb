{
  "nbformat": 4,
  "nbformat_minor": 0,
  "metadata": {
    "colab": {
      "provenance": []
    },
    "kernelspec": {
      "name": "python3",
      "display_name": "Python 3"
    },
    "language_info": {
      "name": "python"
    }
  },
  "cells": [
    {
      "cell_type": "code",
      "execution_count": null,
      "metadata": {
        "id": "2KctO5xXOvKt"
      },
      "outputs": [],
      "source": [
        "import cv2"
      ]
    },
    {
      "cell_type": "code",
      "source": [
        "import matplotlib.pyplot as plt"
      ],
      "metadata": {
        "id": "1Z0YQWiGO2oa"
      },
      "execution_count": null,
      "outputs": []
    },
    {
      "cell_type": "code",
      "source": [
        "# loading a GRAYSCALE image\n",
        "image = cv2.imread(\"/content/img2.jpg\",cv2.IMREAD_GRAYSCALE)\n",
        "\n",
        "\n"
      ],
      "metadata": {
        "id": "OugoE1KnO9JC"
      },
      "execution_count": null,
      "outputs": []
    },
    {
      "cell_type": "code",
      "source": [
        "# histogram = cv2.calcHist([image],[0],None,[256],[0,256])"
      ],
      "metadata": {
        "id": "Dxi3Ov-GP12_"
      },
      "execution_count": null,
      "outputs": []
    },
    {
      "cell_type": "code",
      "source": [
        "# plt.figure()\n",
        "# plt.title(\"Histogram\")\n",
        "# plt.xlabel(\"pixel Intensity\")\n",
        "# plt.ylabel(\"frequency\")\n",
        "# plt.plot(histogram)\n",
        "# plt.xlim([0,256])\n",
        "# plt.show()\n"
      ],
      "metadata": {
        "id": "ORiqA8lIQGDn"
      },
      "execution_count": 1,
      "outputs": []
    },
    {
      "cell_type": "code",
      "source": [
        "# //calculate the hostogra of the image\n",
        "hist = cv2.calcHist([image ],[0],None,[256],[0,256])"
      ],
      "metadata": {
        "id": "vwKZGsIhQI0n"
      },
      "execution_count": null,
      "outputs": []
    },
    {
      "cell_type": "code",
      "source": [
        "# plot the histogram\n",
        "\n",
        "\n",
        "\n",
        "# plt.plot(hist)\n",
        "# plt.show()"
      ],
      "metadata": {
        "id": "GjS5UoELSwIs"
      },
      "execution_count": 2,
      "outputs": []
    },
    {
      "cell_type": "code",
      "source": [
        "# apply histogram equalization\n",
        "equ =cv2.equalizeHist(image)"
      ],
      "metadata": {
        "id": "gibq52E1TBLj"
      },
      "execution_count": null,
      "outputs": []
    },
    {
      "cell_type": "code",
      "source": [
        "# calculate the histogram of the equalize image\n",
        "hist_equ = cv2.calcHist([equ],[0],None,[256],[0,256])\n"
      ],
      "metadata": {
        "id": "auzNvx0cTNzs"
      },
      "execution_count": null,
      "outputs": []
    },
    {
      "cell_type": "code",
      "source": [
        "from google.colab.patches import cv2_imshow"
      ],
      "metadata": {
        "id": "23Jca3p7UVjj"
      },
      "execution_count": null,
      "outputs": []
    },
    {
      "cell_type": "code",
      "source": [
        "# plt.plot(hist_equ)\n",
        "# plt.show()\n",
        "\n",
        "#display the original and equalized image\n",
        "\n",
        "cv2_imshow(image)\n",
        "cv2_imshow(equ)\n",
        "cv2.waitKey(0)"
      ],
      "metadata": {
        "colab": {
          "base_uri": "https://localhost:8080/",
          "height": 250
        },
        "id": "TJ162sd-Tk5o",
        "outputId": "fd2eece7-2060-42de-fc15-359eed0eee41"
      },
      "execution_count": 3,
      "outputs": [
        {
          "output_type": "error",
          "ename": "NameError",
          "evalue": "ignored",
          "traceback": [
            "\u001b[0;31m---------------------------------------------------------------------------\u001b[0m",
            "\u001b[0;31mNameError\u001b[0m                                 Traceback (most recent call last)",
            "\u001b[0;32m<ipython-input-3-84b1d39084dc>\u001b[0m in \u001b[0;36m<cell line: 6>\u001b[0;34m()\u001b[0m\n\u001b[1;32m      4\u001b[0m \u001b[0;31m#display the original and equalized image\u001b[0m\u001b[0;34m\u001b[0m\u001b[0;34m\u001b[0m\u001b[0m\n\u001b[1;32m      5\u001b[0m \u001b[0;34m\u001b[0m\u001b[0m\n\u001b[0;32m----> 6\u001b[0;31m \u001b[0mcv2_imshow\u001b[0m\u001b[0;34m(\u001b[0m\u001b[0mimage\u001b[0m\u001b[0;34m)\u001b[0m\u001b[0;34m\u001b[0m\u001b[0;34m\u001b[0m\u001b[0m\n\u001b[0m\u001b[1;32m      7\u001b[0m \u001b[0mcv2_imshow\u001b[0m\u001b[0;34m(\u001b[0m\u001b[0mequ\u001b[0m\u001b[0;34m)\u001b[0m\u001b[0;34m\u001b[0m\u001b[0;34m\u001b[0m\u001b[0m\n\u001b[1;32m      8\u001b[0m \u001b[0mcv2\u001b[0m\u001b[0;34m.\u001b[0m\u001b[0mwaitKey\u001b[0m\u001b[0;34m(\u001b[0m\u001b[0;36m0\u001b[0m\u001b[0;34m)\u001b[0m\u001b[0;34m\u001b[0m\u001b[0;34m\u001b[0m\u001b[0m\n",
            "\u001b[0;31mNameError\u001b[0m: name 'cv2_imshow' is not defined"
          ]
        }
      ]
    },
    {
      "cell_type": "code",
      "source": [],
      "metadata": {
        "id": "0FB1PP6DTxVy"
      },
      "execution_count": null,
      "outputs": []
    }
  ]
}