{
  "nbformat": 4,
  "nbformat_minor": 0,
  "metadata": {
    "colab": {
      "provenance": []
    },
    "kernelspec": {
      "name": "python3",
      "display_name": "Python 3"
    },
    "language_info": {
      "name": "python"
    }
  },
  "cells": [
    {
      "cell_type": "code",
      "execution_count": 1,
      "metadata": {
        "colab": {
          "base_uri": "https://localhost:8080/"
        },
        "id": "qp9Qs0Fp6PdP",
        "outputId": "ac68f307-93ca-4268-a4a6-3912875e6f9c"
      },
      "outputs": [
        {
          "output_type": "stream",
          "name": "stdout",
          "text": [
            "Accuracy: 0.95\n",
            "Predicted Class: [0]\n"
          ]
        }
      ],
      "source": [
        "# Import the necessary libraries\n",
        "\n",
        "from sklearn.datasets import make_classification\n",
        "from sklearn.model_selection import train_test_split\n",
        "from sklearn.neighbors import KNeighborsClassifier\n",
        "from sklearn.metrics import accuracy_score\n",
        "\n",
        "# Create a synthetic dataset for binary classification\n",
        "x, y = make_classification(n_samples=100, n_features=2, n_informative=2, n_redundant=0, random_state=42)\n",
        "\n",
        "# Split the dataset into training and testing sets\n",
        "X_train, X_test, y_train, y_test = train_test_split(x, y, test_size=0.2, random_state=42)\n",
        "\n",
        "# Create a k-NN classifier (k=3 in this example)\n",
        "k = 3\n",
        "classifier = KNeighborsClassifier(n_neighbors=k)\n",
        "\n",
        "# Train the classifier\n",
        "classifier.fit(X_train, y_train)\n",
        "\n",
        "# Make predictions on the test data\n",
        "y_pred = classifier.predict(X_test)\n",
        "\n",
        "# Calculate and print the accuracy of the classifier\n",
        "accuracy = accuracy_score(y_test, y_pred)\n",
        "print(f\"Accuracy: {accuracy}\")\n",
        "\n",
        "# Example: Use the classifier to predic the class of a new data point\n",
        "new_data_point = [[-2, 3]] # You can change the coordinates\n",
        "predicted_class = classifier.predict(new_data_point)\n",
        "print(f\"Predicted Class: {predicted_class}\")"
      ]
    },
    {
      "cell_type": "code",
      "source": [
        "# Naive Bayes Classifier\n",
        "\n",
        "from sklearn.feature_extraction.text import CountVectorizer\n",
        "from sklearn.naive_bayes import MultinomialNB\n",
        "from sklearn.model_selection import train_test_split\n",
        "from sklearn.metrics import accuracy_score\n",
        "\n",
        "# Sample training data (text samples and their corresponding labels)\n",
        "text_data = [\n",
        "    \"This is a positive review\",\n",
        "    \"Great movie, highly recommended\",\n",
        "    \"Awful experience, waste of time\",\n",
        "    \"Not a fan of this product\",\n",
        "    \"Enjoyed the book, fantastic read\"\n",
        "]\n",
        "labels = [\"positive\", \"positive\", \"negative\", \"negative\", \"positive\"]\n",
        "\n",
        "# Create a text vectorizer to convert text into numerical features\n",
        "vectorizer = CountVectorizer()\n",
        "x = vectorizer.fit_transform(text_data)\n",
        "\n",
        "# Split the data into training and resting sets\n",
        "X_train, X_test, y_train, y_test = train_test_split(x, labels, test_size=0.2, random_state=42)\n",
        "\n",
        "# Create a Multinomial Naive Bayes classifier\n",
        "classifier = MultinomialNB()\n",
        "\n",
        "# Train the classifier on the training data\n",
        "classifier.fit(X_train, y_train)\n",
        "\n",
        "# Make predictions on the test data\n",
        "y_pred = classifier.predict(X_test)\n",
        "\n",
        "# Calculate the accuracy of the classifier\n",
        "accuracy = accuracy_score(y_test, y_pred)\n",
        "print(\"Accuracy: {:.2f}%\".format{accuracy * 100})\n",
        "\n",
        "# Example usage: Classify new text\n",
        "new_text = [\"I loved the movie\"]\n",
        "X_new = vectorizer.transform(new_text)\n",
        "predicted_class = classifier.predict(X_new)[0]\n",
        "print(\"PRedicted class for new text:\" + predicted_class)"
      ],
      "metadata": {
        "colab": {
          "base_uri": "https://localhost:8080/",
          "height": 143
        },
        "id": "MOWDfCEX9TI8",
        "outputId": "93dfbbbf-0fab-45f6-e926-7a8b990f352a"
      },
      "execution_count": 3,
      "outputs": [
        {
          "output_type": "error",
          "ename": "SyntaxError",
          "evalue": "ignored",
          "traceback": [
            "\u001b[0;36m  File \u001b[0;32m\"<ipython-input-3-8bbe3c1e09ea>\"\u001b[0;36m, line \u001b[0;32m36\u001b[0m\n\u001b[0;31m    print(\"Accuracy: {:.2f}%\".format{accuracy * 100})\u001b[0m\n\u001b[0m          ^\u001b[0m\n\u001b[0;31mSyntaxError\u001b[0m\u001b[0;31m:\u001b[0m invalid syntax. Perhaps you forgot a comma?\n"
          ]
        }
      ]
    },
    {
      "cell_type": "code",
      "source": [],
      "metadata": {
        "id": "7P_JjXK09fPn"
      },
      "execution_count": null,
      "outputs": []
    }
  ]
}