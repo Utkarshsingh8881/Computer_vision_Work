{
  "nbformat": 4,
  "nbformat_minor": 0,
  "metadata": {
    "colab": {
      "provenance": []
    },
    "kernelspec": {
      "name": "python3",
      "display_name": "Python 3"
    },
    "language_info": {
      "name": "python"
    }
  },
  "cells": [
    {
      "cell_type": "code",
      "execution_count": 1,
      "metadata": {
        "id": "gSKwHytRfEEE"
      },
      "outputs": [],
      "source": [
        "# import cv2\n",
        "# import numpy as np\n",
        "# from google.colab.patches import cv2_imshow"
      ]
    },
    {
      "cell_type": "code",
      "source": [
        "# image = cv2.imread('/content/img1.jpeg',cv2.IMREAD_GRAYSCALE)"
      ],
      "metadata": {
        "id": "ybCUCE1vfIDb"
      },
      "execution_count": 2,
      "outputs": []
    },
    {
      "cell_type": "code",
      "source": [
        "# min_intensity = np.min(image)\n",
        "# max_intensity = np.max(image)"
      ],
      "metadata": {
        "id": "sxIyDnwkfWxC"
      },
      "execution_count": 3,
      "outputs": []
    },
    {
      "cell_type": "code",
      "source": [
        "# new_min =0"
      ],
      "metadata": {
        "id": "_CC7Z7sof1rL"
      },
      "execution_count": 4,
      "outputs": []
    },
    {
      "cell_type": "code",
      "source": [
        "# new_max =255"
      ],
      "metadata": {
        "id": "O0hXUc7xf36R"
      },
      "execution_count": 6,
      "outputs": []
    },
    {
      "cell_type": "code",
      "source": [
        "\n",
        "# stretched_image = ((image-min_intensity)/(max_intensity))*(new_max-new_min)+new_min\n",
        "\n",
        "# stretched_image = np.uint8(stretched_image)\n",
        "\n",
        "# cv2_imshow(image)\n",
        "# cv2_imshow(stretched_image)\n",
        "# cv2.waitKey(0)\n",
        "# cv2.destroyAllWindows()"
      ],
      "metadata": {
        "id": "aaC6-lSGf5iM"
      },
      "execution_count": 8,
      "outputs": []
    },
    {
      "cell_type": "code",
      "source": [],
      "metadata": {
        "id": "NObXFc2_gvPx"
      },
      "execution_count": null,
      "outputs": []
    }
  ]
}