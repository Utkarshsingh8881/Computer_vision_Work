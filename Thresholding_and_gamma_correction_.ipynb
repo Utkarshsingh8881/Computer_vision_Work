{
  "nbformat": 4,
  "nbformat_minor": 0,
  "metadata": {
    "colab": {
      "provenance": []
    },
    "kernelspec": {
      "name": "python3",
      "display_name": "Python 3"
    },
    "language_info": {
      "name": "python"
    }
  },
  "cells": [
    {
      "cell_type": "code",
      "execution_count": 1,
      "metadata": {
        "id": "vhitXGGqX-Ag"
      },
      "outputs": [],
      "source": [
        "# import cv2\n",
        "# import numpy as np\n",
        "# from google.colab.patches import cv2_imshow"
      ]
    },
    {
      "cell_type": "code",
      "source": [
        "# img = cv2.imread('/content/img2.jpg',0) # read the image"
      ],
      "metadata": {
        "id": "IoniOk55Y5_u"
      },
      "execution_count": 2,
      "outputs": []
    },
    {
      "cell_type": "code",
      "source": [
        "# #convert rhe image to grayscale\n",
        "# rgb_img = cv2.cvtColor(img, cv2.COLOR_GRAY2BGR)"
      ],
      "metadata": {
        "id": "uDAdB_9MZLoR"
      },
      "execution_count": 3,
      "outputs": []
    },
    {
      "cell_type": "code",
      "source": [
        "# threshold , thresh = cv2.threshold(rgb_img,125,255,cv2.THRESH_BINARY)"
      ],
      "metadata": {
        "id": "zR35nq6JZfov"
      },
      "execution_count": 4,
      "outputs": []
    },
    {
      "cell_type": "code",
      "source": [
        "# #display the origainal and threshold image\n",
        "# cv2_imshow(img)\n",
        "# cv2_imshow(thresh)\n",
        "# cv2.waitKey(0)"
      ],
      "metadata": {
        "id": "rIAQr8sDZ4St"
      },
      "execution_count": 5,
      "outputs": []
    },
    {
      "cell_type": "code",
      "source": [
        "#gamma correction"
      ],
      "metadata": {
        "id": "OGrqyrV_d9W8"
      },
      "execution_count": 6,
      "outputs": []
    },
    {
      "cell_type": "code",
      "source": [
        "# import cv2\n",
        "# import numpy as np\n",
        "# from google.colab.patches import cv2_imshow"
      ],
      "metadata": {
        "id": "DZe6fyrcaMS4"
      },
      "execution_count": 7,
      "outputs": []
    },
    {
      "cell_type": "code",
      "source": [
        "# Lode the image\n",
        "# image = cv2.imread(\"/content/img2.jpg\")"
      ],
      "metadata": {
        "id": "WA8RtkjtbXvv"
      },
      "execution_count": 8,
      "outputs": []
    },
    {
      "cell_type": "code",
      "source": [
        "# gamma correction parameter\n",
        "# gamma = 2.5\n"
      ],
      "metadata": {
        "id": "j9vdVX88bmJs"
      },
      "execution_count": 9,
      "outputs": []
    },
    {
      "cell_type": "code",
      "source": [
        "# applyy gamma correction\n",
        "\n",
        "\n",
        "# correction_image = np.power(image /255.0,gamma)\n",
        "# correction_image = np.uint8(correction_image*255)"
      ],
      "metadata": {
        "id": "F60ZDWc-bxz0"
      },
      "execution_count": 10,
      "outputs": []
    },
    {
      "cell_type": "code",
      "source": [
        "# // display original and correction\n",
        "# cv2_imshow(image)\n",
        "# cv2_imshow(correction_image)\n",
        "# cv2.waitKey(0)\n",
        "# cv2.destroyAllWindows()"
      ],
      "metadata": {
        "id": "JPZszoA0cKlj"
      },
      "execution_count": 11,
      "outputs": []
    },
    {
      "cell_type": "code",
      "source": [],
      "metadata": {
        "id": "8HzmiMaPcrnO"
      },
      "execution_count": null,
      "outputs": []
    }
  ]
}